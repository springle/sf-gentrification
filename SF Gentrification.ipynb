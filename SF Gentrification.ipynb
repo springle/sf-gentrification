{
 "cells": [
  {
   "cell_type": "markdown",
   "metadata": {},
   "source": [
    "# SF Gentrification\n",
    "\n",
    "This project creates some basic visualizations of San Francisco rent data over time. The data is pulled from [this blog post](https://marthabridegam.com/sf-rent-history-chart/), where the poster did the work of aggregating rent data from a number of other sources. The data being imported from [data.csv](./data.csv) includes the following headers:\n",
    "\n",
    "- year\n",
    "- median_rent\n",
    "- housing_units\n",
    "- net_new_housing\n",
    "- employment\n",
    "- total_wages\n",
    "- CPI"
   ]
  },
  {
   "cell_type": "code",
   "execution_count": null,
   "metadata": {},
   "outputs": [],
   "source": [
    "import csv\n",
    "import numpy as np\n",
    "import matplotlib.pyplot as plt"
   ]
  },
  {
   "cell_type": "code",
   "execution_count": null,
   "metadata": {},
   "outputs": [],
   "source": [
    "# Load data\n",
    "f = open('data.csv', 'r')\n",
    "reader = csv.reader(f)\n",
    "headers = next(reader, None);\n",
    "data = { header: [] for header in headers }\n",
    "for row in reader:\n",
    "    for h, v in zip(headers, row):\n",
    "        data[h].append(v)\n",
    "print(data['median_rent'])"
   ]
  },
  {
   "cell_type": "markdown",
   "metadata": {},
   "source": [
    "## Data Cleaning\n",
    "\n",
    "If we look at Median Rent data and Consumer Price Index (CPI) data, we can see a number of 'NA' entries that need to be cleaned up."
   ]
  },
  {
   "cell_type": "code",
   "execution_count": null,
   "metadata": {},
   "outputs": [],
   "source": [
    "# Clean up missing `median_rent` and `CPI` entries\n",
    "first_rent_index = data['median_rent'].index('130')\n",
    "data = {k:v[first_rent_index:] for k, v in data.items()}\n",
    "cpi_data = data['CPI']\n",
    "for i in range(len(cpi_data)):\n",
    "    if cpi_data[i] == 'NA':\n",
    "        cpi_data[i] = cpi_data[i-1]"
   ]
  },
  {
   "cell_type": "code",
   "execution_count": null,
   "metadata": {},
   "outputs": [],
   "source": [
    "# Plot Median Rent vs. Year\n",
    "years, median_rents = [int(i) for i in data['year']], [float(i) for i in data['median_rent']]\n",
    "plt.figure(figsize=(15, 6))\n",
    "plt.plot(years, median_rents)\n",
    "plt.xlabel('Year')\n",
    "plt.ylabel('Median Rent')\n",
    "plt.title('SF Rent over Time')\n",
    "plt.show()"
   ]
  },
  {
   "cell_type": "markdown",
   "metadata": {},
   "source": [
    "## But what about inflation?"
   ]
  },
  {
   "cell_type": "code",
   "execution_count": null,
   "metadata": {},
   "outputs": [],
   "source": [
    "cpis = [float(i) for i in data['CPI']]\n",
    "adjusted_rents = [median_rents[i] * cpis[len(cpis)-1]/cpis[i] for i in range(len(cpis))]"
   ]
  },
  {
   "cell_type": "code",
   "execution_count": null,
   "metadata": {},
   "outputs": [],
   "source": [
    "# Plot Median Rent and Adjusted Median Rent vs. Year\n",
    "plt.figure(figsize=(15, 6))\n",
    "plt.plot(years, median_rents, label=\"Unadjusted\")\n",
    "plt.plot(years, adjusted_rents, label=\"Adjusted\")\n",
    "plt.xlabel('Year')\n",
    "plt.ylabel('Median Rent')\n",
    "plt.title('SF Rent over Time (adjusted for inflation)')\n",
    "plt.legend()\n",
    "plt.show()"
   ]
  },
  {
   "cell_type": "code",
   "execution_count": null,
   "metadata": {},
   "outputs": [],
   "source": [
    "# Let's zoom in\n",
    "plt.figure(figsize=(15, 6))\n",
    "plt.plot(years[25:], adjusted_rents[25:], label=\"Adjusted\", color=\"orange\")\n",
    "plt.xlabel('Year')\n",
    "plt.ylabel('Adjusted Median Rent')\n",
    "plt.title('SF Rent over Time (adjusted for inflation)')\n",
    "plt.annotate('dot com boom', xy=(2001, 3006), xytext=(1993, 3200),\n",
    "             arrowprops=dict(facecolor='blue', shrink=0.05),\n",
    "             bbox=dict(boxstyle='round,pad=0.5', fc='orange', alpha=0.25))\n",
    "plt.annotate('housing crash', xy=(2007, 2858), xytext=(2002, 3300),\n",
    "             arrowprops=dict(facecolor='blue', shrink=0.05),\n",
    "             bbox=dict(boxstyle='round,pad=0.5', fc='orange', alpha=0.25))\n",
    "\n",
    "\n",
    "plt.legend()\n",
    "plt.show()"
   ]
  },
  {
   "cell_type": "code",
   "execution_count": null,
   "metadata": {},
   "outputs": [],
   "source": [
    "# Table View\n",
    "print(\"Year | Rent\")\n",
    "for year, rent in zip(years, adjusted_rents):\n",
    "    print(year, \"|\", rent)"
   ]
  }
 ],
 "metadata": {
  "kernelspec": {
   "display_name": "Python 3",
   "language": "python",
   "name": "python3"
  },
  "language_info": {
   "codemirror_mode": {
    "name": "ipython",
    "version": 3
   },
   "file_extension": ".py",
   "mimetype": "text/x-python",
   "name": "python",
   "nbconvert_exporter": "python",
   "pygments_lexer": "ipython3",
   "version": "3.6.5"
  }
 },
 "nbformat": 4,
 "nbformat_minor": 2
}
